{
 "cells": [
  {
   "cell_type": "code",
   "execution_count": 1,
   "id": "7b69e8f9",
   "metadata": {},
   "outputs": [],
   "source": [
    "import pandas as pd"
   ]
  },
  {
   "cell_type": "code",
   "execution_count": null,
   "id": "c75d2ccb",
   "metadata": {},
   "outputs": [],
   "source": [
    "!pip install geocoder"
   ]
  },
  {
   "cell_type": "code",
   "execution_count": null,
   "id": "5dc92650",
   "metadata": {},
   "outputs": [],
   "source": [
    "!pip install folium"
   ]
  },
  {
   "cell_type": "code",
   "execution_count": 2,
   "id": "8a568817",
   "metadata": {},
   "outputs": [],
   "source": [
    "import geocoder"
   ]
  },
  {
   "cell_type": "code",
   "execution_count": 3,
   "id": "e90afca5",
   "metadata": {},
   "outputs": [],
   "source": [
    "import folium"
   ]
  },
  {
   "cell_type": "code",
   "execution_count": 9,
   "id": "dde5a7ba",
   "metadata": {},
   "outputs": [
    {
     "ename": "TypeError",
     "evalue": "ip() takes 1 positional argument but 3 were given",
     "output_type": "error",
     "traceback": [
      "\u001b[1;31m---------------------------------------------------------------------------\u001b[0m",
      "\u001b[1;31mTypeError\u001b[0m                                 Traceback (most recent call last)",
      "\u001b[1;32m<ipython-input-9-326872bb66a7>\u001b[0m in \u001b[0;36m<module>\u001b[1;34m\u001b[0m\n\u001b[1;32m----> 1\u001b[1;33m \u001b[0mg\u001b[0m \u001b[1;33m=\u001b[0m \u001b[0mgeocoder\u001b[0m\u001b[1;33m.\u001b[0m\u001b[0mip\u001b[0m\u001b[1;33m(\u001b[0m\u001b[1;34m\"103.124.85.231\"\u001b[0m\u001b[1;33m,\u001b[0m\u001b[1;34m\"103.137.19.110\"\u001b[0m\u001b[1;33m,\u001b[0m\u001b[1;34m\"103.46.203.252\"\u001b[0m\u001b[1;33m)\u001b[0m\u001b[1;33m\u001b[0m\u001b[1;33m\u001b[0m\u001b[0m\n\u001b[0m\u001b[0;32m      2\u001b[0m \u001b[0mmyaddress\u001b[0m \u001b[1;33m=\u001b[0m \u001b[0mg\u001b[0m\u001b[1;33m.\u001b[0m\u001b[0mlatlng\u001b[0m\u001b[1;33m\u001b[0m\u001b[1;33m\u001b[0m\u001b[0m\n",
      "\u001b[1;31mTypeError\u001b[0m: ip() takes 1 positional argument but 3 were given"
     ]
    }
   ],
   "source": [
    "g = geocoder.ip(\"103.124.85.231\",\"103.137.19.110\",\"103.46.203.252\")\n",
    "myaddress = g.latlng"
   ]
  },
  {
   "cell_type": "code",
   "execution_count": 5,
   "id": "93388628",
   "metadata": {},
   "outputs": [
    {
     "data": {
      "text/plain": [
       "[23.3432, 85.3094]"
      ]
     },
     "execution_count": 5,
     "metadata": {},
     "output_type": "execute_result"
    }
   ],
   "source": [
    "myaddress"
   ]
  },
  {
   "cell_type": "code",
   "execution_count": 6,
   "id": "9615c2ad",
   "metadata": {},
   "outputs": [
    {
     "data": {
      "text/html": [
       "<div style=\"width:100%;\"><div style=\"position:relative;width:100%;height:0;padding-bottom:60%;\"><span style=\"color:#565656\">Make this Notebook Trusted to load map: File -> Trust Notebook</span><iframe src=\"about:blank\" style=\"position:absolute;width:100%;height:100%;left:0;top:0;border:none !important;\" data-html=%3C%21DOCTYPE%20html%3E%0A%3Chead%3E%20%20%20%20%0A%20%20%20%20%3Cmeta%20http-equiv%3D%22content-type%22%20content%3D%22text/html%3B%20charset%3DUTF-8%22%20/%3E%0A%20%20%20%20%0A%20%20%20%20%20%20%20%20%3Cscript%3E%0A%20%20%20%20%20%20%20%20%20%20%20%20L_NO_TOUCH%20%3D%20false%3B%0A%20%20%20%20%20%20%20%20%20%20%20%20L_DISABLE_3D%20%3D%20false%3B%0A%20%20%20%20%20%20%20%20%3C/script%3E%0A%20%20%20%20%0A%20%20%20%20%3Cstyle%3Ehtml%2C%20body%20%7Bwidth%3A%20100%25%3Bheight%3A%20100%25%3Bmargin%3A%200%3Bpadding%3A%200%3B%7D%3C/style%3E%0A%20%20%20%20%3Cstyle%3E%23map%20%7Bposition%3Aabsolute%3Btop%3A0%3Bbottom%3A0%3Bright%3A0%3Bleft%3A0%3B%7D%3C/style%3E%0A%20%20%20%20%3Cscript%20src%3D%22https%3A//cdn.jsdelivr.net/npm/leaflet%401.6.0/dist/leaflet.js%22%3E%3C/script%3E%0A%20%20%20%20%3Cscript%20src%3D%22https%3A//code.jquery.com/jquery-1.12.4.min.js%22%3E%3C/script%3E%0A%20%20%20%20%3Cscript%20src%3D%22https%3A//maxcdn.bootstrapcdn.com/bootstrap/3.2.0/js/bootstrap.min.js%22%3E%3C/script%3E%0A%20%20%20%20%3Cscript%20src%3D%22https%3A//cdnjs.cloudflare.com/ajax/libs/Leaflet.awesome-markers/2.0.2/leaflet.awesome-markers.js%22%3E%3C/script%3E%0A%20%20%20%20%3Clink%20rel%3D%22stylesheet%22%20href%3D%22https%3A//cdn.jsdelivr.net/npm/leaflet%401.6.0/dist/leaflet.css%22/%3E%0A%20%20%20%20%3Clink%20rel%3D%22stylesheet%22%20href%3D%22https%3A//maxcdn.bootstrapcdn.com/bootstrap/3.2.0/css/bootstrap.min.css%22/%3E%0A%20%20%20%20%3Clink%20rel%3D%22stylesheet%22%20href%3D%22https%3A//maxcdn.bootstrapcdn.com/bootstrap/3.2.0/css/bootstrap-theme.min.css%22/%3E%0A%20%20%20%20%3Clink%20rel%3D%22stylesheet%22%20href%3D%22https%3A//maxcdn.bootstrapcdn.com/font-awesome/4.6.3/css/font-awesome.min.css%22/%3E%0A%20%20%20%20%3Clink%20rel%3D%22stylesheet%22%20href%3D%22https%3A//cdnjs.cloudflare.com/ajax/libs/Leaflet.awesome-markers/2.0.2/leaflet.awesome-markers.css%22/%3E%0A%20%20%20%20%3Clink%20rel%3D%22stylesheet%22%20href%3D%22https%3A//cdn.jsdelivr.net/gh/python-visualization/folium/folium/templates/leaflet.awesome.rotate.min.css%22/%3E%0A%20%20%20%20%0A%20%20%20%20%20%20%20%20%20%20%20%20%3Cmeta%20name%3D%22viewport%22%20content%3D%22width%3Ddevice-width%2C%0A%20%20%20%20%20%20%20%20%20%20%20%20%20%20%20%20initial-scale%3D1.0%2C%20maximum-scale%3D1.0%2C%20user-scalable%3Dno%22%20/%3E%0A%20%20%20%20%20%20%20%20%20%20%20%20%3Cstyle%3E%0A%20%20%20%20%20%20%20%20%20%20%20%20%20%20%20%20%23map_f2200ea87fbf49d391f6b3532fc18fc1%20%7B%0A%20%20%20%20%20%20%20%20%20%20%20%20%20%20%20%20%20%20%20%20position%3A%20relative%3B%0A%20%20%20%20%20%20%20%20%20%20%20%20%20%20%20%20%20%20%20%20width%3A%20100.0%25%3B%0A%20%20%20%20%20%20%20%20%20%20%20%20%20%20%20%20%20%20%20%20height%3A%20100.0%25%3B%0A%20%20%20%20%20%20%20%20%20%20%20%20%20%20%20%20%20%20%20%20left%3A%200.0%25%3B%0A%20%20%20%20%20%20%20%20%20%20%20%20%20%20%20%20%20%20%20%20top%3A%200.0%25%3B%0A%20%20%20%20%20%20%20%20%20%20%20%20%20%20%20%20%7D%0A%20%20%20%20%20%20%20%20%20%20%20%20%3C/style%3E%0A%20%20%20%20%20%20%20%20%0A%3C/head%3E%0A%3Cbody%3E%20%20%20%20%0A%20%20%20%20%0A%20%20%20%20%20%20%20%20%20%20%20%20%3Cdiv%20class%3D%22folium-map%22%20id%3D%22map_f2200ea87fbf49d391f6b3532fc18fc1%22%20%3E%3C/div%3E%0A%20%20%20%20%20%20%20%20%0A%3C/body%3E%0A%3Cscript%3E%20%20%20%20%0A%20%20%20%20%0A%20%20%20%20%20%20%20%20%20%20%20%20var%20map_f2200ea87fbf49d391f6b3532fc18fc1%20%3D%20L.map%28%0A%20%20%20%20%20%20%20%20%20%20%20%20%20%20%20%20%22map_f2200ea87fbf49d391f6b3532fc18fc1%22%2C%0A%20%20%20%20%20%20%20%20%20%20%20%20%20%20%20%20%7B%0A%20%20%20%20%20%20%20%20%20%20%20%20%20%20%20%20%20%20%20%20center%3A%20%5B23.3432%2C%2085.3094%5D%2C%0A%20%20%20%20%20%20%20%20%20%20%20%20%20%20%20%20%20%20%20%20crs%3A%20L.CRS.EPSG3857%2C%0A%20%20%20%20%20%20%20%20%20%20%20%20%20%20%20%20%20%20%20%20zoom%3A%2012%2C%0A%20%20%20%20%20%20%20%20%20%20%20%20%20%20%20%20%20%20%20%20zoomControl%3A%20true%2C%0A%20%20%20%20%20%20%20%20%20%20%20%20%20%20%20%20%20%20%20%20preferCanvas%3A%20false%2C%0A%20%20%20%20%20%20%20%20%20%20%20%20%20%20%20%20%7D%0A%20%20%20%20%20%20%20%20%20%20%20%20%29%3B%0A%0A%20%20%20%20%20%20%20%20%20%20%20%20%0A%0A%20%20%20%20%20%20%20%20%0A%20%20%20%20%0A%20%20%20%20%20%20%20%20%20%20%20%20var%20tile_layer_22957aa2b6674892b17f434d30e68f82%20%3D%20L.tileLayer%28%0A%20%20%20%20%20%20%20%20%20%20%20%20%20%20%20%20%22https%3A//%7Bs%7D.tile.openstreetmap.org/%7Bz%7D/%7Bx%7D/%7By%7D.png%22%2C%0A%20%20%20%20%20%20%20%20%20%20%20%20%20%20%20%20%7B%22attribution%22%3A%20%22Data%20by%20%5Cu0026copy%3B%20%5Cu003ca%20href%3D%5C%22http%3A//openstreetmap.org%5C%22%5Cu003eOpenStreetMap%5Cu003c/a%5Cu003e%2C%20under%20%5Cu003ca%20href%3D%5C%22http%3A//www.openstreetmap.org/copyright%5C%22%5Cu003eODbL%5Cu003c/a%5Cu003e.%22%2C%20%22detectRetina%22%3A%20false%2C%20%22maxNativeZoom%22%3A%2018%2C%20%22maxZoom%22%3A%2018%2C%20%22minZoom%22%3A%200%2C%20%22noWrap%22%3A%20false%2C%20%22opacity%22%3A%201%2C%20%22subdomains%22%3A%20%22abc%22%2C%20%22tms%22%3A%20false%7D%0A%20%20%20%20%20%20%20%20%20%20%20%20%29.addTo%28map_f2200ea87fbf49d391f6b3532fc18fc1%29%3B%0A%20%20%20%20%20%20%20%20%0A%3C/script%3E onload=\"this.contentDocument.open();this.contentDocument.write(    decodeURIComponent(this.getAttribute('data-html')));this.contentDocument.close();\" allowfullscreen webkitallowfullscreen mozallowfullscreen></iframe></div></div>"
      ],
      "text/plain": [
       "<folium.folium.Map at 0x1ff38196188>"
      ]
     },
     "execution_count": 6,
     "metadata": {},
     "output_type": "execute_result"
    }
   ],
   "source": [
    "my_map1 = folium.Map(location=myaddress,zoom_start=12) \n",
    "my_map1"
   ]
  },
  {
   "cell_type": "code",
   "execution_count": 7,
   "id": "a4a0f5ba",
   "metadata": {},
   "outputs": [
    {
     "data": {
      "text/plain": [
       "<folium.vector_layers.CircleMarker at 0x1ff381b1f48>"
      ]
     },
     "execution_count": 7,
     "metadata": {},
     "output_type": "execute_result"
    }
   ],
   "source": [
    "folium.CircleMarker(location=myaddress,radius=10,popup=\"Yorkshire\").add_to(my_map1)"
   ]
  },
  {
   "cell_type": "code",
   "execution_count": 8,
   "id": "8066726a",
   "metadata": {},
   "outputs": [],
   "source": [
    "my_map1.save(\"demo1.html\")"
   ]
  },
  {
   "cell_type": "code",
   "execution_count": null,
   "id": "6ec784f5",
   "metadata": {},
   "outputs": [],
   "source": []
  },
  {
   "cell_type": "code",
   "execution_count": null,
   "id": "10696bfe",
   "metadata": {},
   "outputs": [],
   "source": []
  },
  {
   "cell_type": "code",
   "execution_count": null,
   "id": "daa896f9",
   "metadata": {},
   "outputs": [],
   "source": []
  },
  {
   "cell_type": "code",
   "execution_count": null,
   "id": "e515d919",
   "metadata": {},
   "outputs": [],
   "source": []
  },
  {
   "cell_type": "code",
   "execution_count": null,
   "id": "0db9eeb9",
   "metadata": {},
   "outputs": [],
   "source": []
  },
  {
   "cell_type": "code",
   "execution_count": null,
   "id": "d16689b9",
   "metadata": {},
   "outputs": [],
   "source": []
  },
  {
   "cell_type": "code",
   "execution_count": null,
   "id": "1de3fd96",
   "metadata": {},
   "outputs": [],
   "source": []
  },
  {
   "cell_type": "code",
   "execution_count": null,
   "id": "7a004dba",
   "metadata": {},
   "outputs": [],
   "source": []
  },
  {
   "cell_type": "code",
   "execution_count": null,
   "id": "1922aed0",
   "metadata": {},
   "outputs": [],
   "source": []
  },
  {
   "cell_type": "code",
   "execution_count": null,
   "id": "8eaa6526",
   "metadata": {},
   "outputs": [],
   "source": []
  },
  {
   "cell_type": "code",
   "execution_count": null,
   "id": "97b5d035",
   "metadata": {},
   "outputs": [],
   "source": [
    "pip install urllib3"
   ]
  },
  {
   "cell_type": "markdown",
   "id": "37c8e940",
   "metadata": {},
   "source": [
    "# How to find location with IP address in Python?"
   ]
  },
  {
   "cell_type": "code",
   "execution_count": null,
   "id": "e736b702",
   "metadata": {},
   "outputs": [],
   "source": [
    "import re\n",
    "import json\n",
    "from urllib3 import urlopen\n",
    "\n",
    "url = 'http://ipinfo.io/json'\n",
    "response = urlopen(url)\n",
    "data = json.load(response)\n",
    "\n",
    "IP=data['ip']\n",
    "org=data['org']\n",
    "city = data['city']\n",
    "country=data['country']\n",
    "region=data['region']\n",
    "\n",
    "print('Your IP detail\\n ')\n",
    "print('IP : {4} \\nRegion : {1} \\nCountry : {2} \\nCity : {3} \\nOrg : {0}'.format(org,region,country,city,IP))"
   ]
  },
  {
   "cell_type": "code",
   "execution_count": null,
   "id": "89232d7e",
   "metadata": {},
   "outputs": [],
   "source": [
    "url = urllib3.urlopen(\"http://api.hostip.info/get_html.php?ip=%s&position=true\" % ip)\n",
    "data = re.compile('^[^\\(]+\\(|\\)$').sub('', url.read())\n",
    "print(data)"
   ]
  },
  {
   "cell_type": "code",
   "execution_count": null,
   "id": "89ed8b33",
   "metadata": {},
   "outputs": [],
   "source": [
    "import urllib3\n",
    "http = urllib3.PoolManager()\n",
    "r = http.request('GET', 'https://www.google.co.in/search?q=open+financial+technologies&sxsrf=AOaemvLuUjxh6BiqNs39zTxIIe2pozQkAA%3A1637484330597&source=hp&ei=KgeaYc3wIbi-5OUPr5WU0As&iflsig=ALs-wAMAAAAAYZoVOsdVRxZ4mjPF5mUVH7NhZsH49pYt&gs_ssp=eJwFwTkOgCAQAMDYmvgCGxprFwnnE_yE4ViBSMCoBc93ZpzWuFKawqGeCwoMZoHOnEXKgvKUa7GhNtDRowAGykkFTEi-z-3GSs5cbfXZFvKhT7WVFjO-P-ZMGZw&oq=open+&gs_lcp=Cgdnd3Mtd2l6EAEYADIKCC4QxwEQrwEQJzIECCMQJzIECCMQJzIECAAQQzIECAAQQzIECAAQQzIHCAAQsQMQQzIECAAQQzIFCAAQgAQyCAgAEIAEELEDOgcIIxDqAhAnOgsIABCABBCxAxCDAToOCC4QgAQQsQMQxwEQ0QM6DgguEIAEELEDEMcBEKMCOgcILhCxAxBDOgQIABADOgcIABCxAxAKOgoIABCxAxCxAxAKOgQIABAKOgcIABCABBAKSgUIPBIBM1DcBljSK2CkOGgEcAB4AIABtwGIAb4IkgEDMC44mAEAoAEBsAEK&sclient=gws-wiz')\n",
    "r.status\n"
   ]
  },
  {
   "cell_type": "code",
   "execution_count": null,
   "id": "54b2545b",
   "metadata": {},
   "outputs": [],
   "source": [
    "r.data"
   ]
  },
  {
   "cell_type": "code",
   "execution_count": null,
   "id": "0de62d94",
   "metadata": {},
   "outputs": [],
   "source": [
    "\n",
    "import urllib.request\n",
    "request_url = urllib.request.urlopen('https://www.geeksforgeeks.org/')\n",
    "print(request_url.read())"
   ]
  },
  {
   "cell_type": "code",
   "execution_count": null,
   "id": "67f5adaf",
   "metadata": {},
   "outputs": [],
   "source": [
    "# import the library and its Marker clusterization service\n",
    "import folium\n",
    "from folium.plugins import MarkerCluster\n",
    "# Create a map object and center it to the avarage coordinates to m\n",
    "m = folium.Map(location=df[[\"lat\", \"lon\"]].mean().to_list(), zoom_start=2)\n",
    "# if the points are too close to each other, cluster them, create a cluster overlay with MarkerCluster, add to m\n",
    "marker_cluster = MarkerCluster().add_to(m)\n",
    "# draw the markers and assign popup and hover texts\n",
    "# add the markers the the cluster layers so that they are automatically clustered\n",
    "for i,r in df.iterrows():\n",
    "    location = (r[\"lat\"], r[\"lon\"])\n",
    "    folium.Marker(location=location,\n",
    "                      popup = r['Name'],\n",
    "                      tooltip=r['Name'])\\\n",
    "    .add_to(marker_cluster)\n",
    "# display the map\n",
    "m\n"
   ]
  },
  {
   "cell_type": "code",
   "execution_count": null,
   "id": "4de8bdab",
   "metadata": {},
   "outputs": [],
   "source": [
    "# import packages, see https://python-visualization.github.io/folium/\n",
    "import folium\n",
    "from folium.plugins import MarkerCluster\n",
    "\n",
    "# center to the mean of all points\n",
    "m = folium.Map(location=[23.3432, 85.3094].mean().to_list(), zoom_start=2)\n",
    "\n",
    "# if the points are too close to each other, cluster them, create a cluster overlay with MarkerCluster\n",
    "marker_cluster = MarkerCluster().add_to(m)\n",
    "\n",
    "# draw the markers and assign popup and hover texts\n",
    "# add the markers the the cluster layers so that they are automatically clustered\n",
    "for i,r in df.iterrows():\n",
    "    location = (r[\"Lat\"], r[\"Lon\"])\n",
    "    folium.Marker(location=location,\n",
    "                      popup = r['Name'],\n",
    "                      tooltip=r['Name'])\\\n",
    "    .add_to(marker_cluster)\n",
    "\n",
    "# display the map\n",
    "m"
   ]
  },
  {
   "cell_type": "code",
   "execution_count": null,
   "id": "021f80db",
   "metadata": {},
   "outputs": [],
   "source": []
  },
  {
   "cell_type": "code",
   "execution_count": null,
   "id": "7065ec71",
   "metadata": {},
   "outputs": [],
   "source": []
  },
  {
   "cell_type": "code",
   "execution_count": null,
   "id": "43f65789",
   "metadata": {},
   "outputs": [],
   "source": []
  },
  {
   "cell_type": "code",
   "execution_count": null,
   "id": "51bbd0d5",
   "metadata": {},
   "outputs": [],
   "source": []
  },
  {
   "cell_type": "code",
   "execution_count": null,
   "id": "4c0d625d",
   "metadata": {},
   "outputs": [],
   "source": []
  }
 ],
 "metadata": {
  "kernelspec": {
   "display_name": "Python 3",
   "language": "python",
   "name": "python3"
  },
  "language_info": {
   "codemirror_mode": {
    "name": "ipython",
    "version": 3
   },
   "file_extension": ".py",
   "mimetype": "text/x-python",
   "name": "python",
   "nbconvert_exporter": "python",
   "pygments_lexer": "ipython3",
   "version": "3.7.10"
  }
 },
 "nbformat": 4,
 "nbformat_minor": 5
}
